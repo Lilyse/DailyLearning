{
 "cells": [
  {
   "cell_type": "code",
   "execution_count": 1,
   "metadata": {
    "collapsed": true
   },
   "outputs": [],
   "source": [
    "# __add__(self,other) 本身就是一个加法"
   ]
  },
  {
   "cell_type": "code",
   "execution_count": 113,
   "metadata": {
    "collapsed": false
   },
   "outputs": [],
   "source": [
    "import time as t\n",
    "\n",
    "class Mytimer():\n",
    "    def __init__(self):\n",
    "        self.calen = ['年','月','天','时','分','秒']\n",
    "        self.list1 = []\n",
    "        self.promo = '未开始计时'\n",
    "        self.begin = 0\n",
    "        self.end = 0\n",
    "        self.add = []\n",
    "    \n",
    "    def __str__(self):\n",
    "        return self.promo\n",
    "    \n",
    "    __repr__  =  __str__\n",
    "        \n",
    "    #开始计时\n",
    "    def start(self):\n",
    "        print('计时开始')\n",
    "        self.begin = t.localtime()\n",
    "        self.promo = '请使用stop'\n",
    "        \n",
    "    #结束计时\n",
    "    def stop(self):\n",
    "        if not self.begin:\n",
    "            print('请先start')\n",
    "        else:\n",
    "            self.end = t.localtime()\n",
    "            self._calu()\n",
    "            print('计时结束')\n",
    "\n",
    "    # 内部方法，计算时间\n",
    "    def _calu(self):\n",
    "        self.list1 = []\n",
    "        self.promo = '持续了'\n",
    "        for index in range(6):\n",
    "            self.list1.append(self.end[index] - self.begin[index])\n",
    "            if self.list1[index]:    \n",
    "                self.promo += str(self.list1[index]) + str(self.calen[index])\n",
    "        #为下轮计时初始化\n",
    "        self.begin = 0\n",
    "        self.end = 0\n",
    "    def __add__(self,other):\n",
    "        promo = '总共持续了'\n",
    "        for index in range(6):\n",
    "            self.add.append(self.list1[index] + other.list1[index])\n",
    "            if self.add[index]:\n",
    "               promo += str(self.add[index]) + str(self.calen[index])\n",
    "        print(promo)\n",
    "            "
   ]
  },
  {
   "cell_type": "code",
   "execution_count": 121,
   "metadata": {
    "collapsed": true
   },
   "outputs": [],
   "source": [
    "t1 = Mytimer()"
   ]
  },
  {
   "cell_type": "code",
   "execution_count": 122,
   "metadata": {
    "collapsed": false
   },
   "outputs": [
    {
     "name": "stdout",
     "output_type": "stream",
     "text": [
      "计时开始\n"
     ]
    }
   ],
   "source": [
    "t1.start()"
   ]
  },
  {
   "cell_type": "code",
   "execution_count": 123,
   "metadata": {
    "collapsed": false
   },
   "outputs": [
    {
     "name": "stdout",
     "output_type": "stream",
     "text": [
      "计时结束\n"
     ]
    }
   ],
   "source": [
    "t1.stop()"
   ]
  },
  {
   "cell_type": "code",
   "execution_count": 124,
   "metadata": {
    "collapsed": false
   },
   "outputs": [
    {
     "data": {
      "text/plain": [
       "持续了3秒"
      ]
     },
     "execution_count": 124,
     "metadata": {},
     "output_type": "execute_result"
    }
   ],
   "source": [
    "t1"
   ]
  },
  {
   "cell_type": "code",
   "execution_count": 125,
   "metadata": {
    "collapsed": true
   },
   "outputs": [],
   "source": [
    "t2 = Mytimer()"
   ]
  },
  {
   "cell_type": "code",
   "execution_count": 126,
   "metadata": {
    "collapsed": false
   },
   "outputs": [
    {
     "name": "stdout",
     "output_type": "stream",
     "text": [
      "计时开始\n"
     ]
    }
   ],
   "source": [
    "t2.start()"
   ]
  },
  {
   "cell_type": "code",
   "execution_count": 127,
   "metadata": {
    "collapsed": false
   },
   "outputs": [
    {
     "name": "stdout",
     "output_type": "stream",
     "text": [
      "计时结束\n"
     ]
    }
   ],
   "source": [
    "t2.stop()"
   ]
  },
  {
   "cell_type": "code",
   "execution_count": 128,
   "metadata": {
    "collapsed": false
   },
   "outputs": [
    {
     "data": {
      "text/plain": [
       "持续了3秒"
      ]
     },
     "execution_count": 128,
     "metadata": {},
     "output_type": "execute_result"
    }
   ],
   "source": [
    "t2"
   ]
  },
  {
   "cell_type": "code",
   "execution_count": 129,
   "metadata": {
    "collapsed": false
   },
   "outputs": [
    {
     "name": "stdout",
     "output_type": "stream",
     "text": [
      "总共持续了6秒\n"
     ]
    }
   ],
   "source": [
    "t1 + t2"
   ]
  },
  {
   "cell_type": "code",
   "execution_count": null,
   "metadata": {
    "collapsed": true
   },
   "outputs": [],
   "source": []
  }
 ],
 "metadata": {
  "kernelspec": {
   "display_name": "Python [default]",
   "language": "python",
   "name": "python3"
  },
  "language_info": {
   "codemirror_mode": {
    "name": "ipython",
    "version": 3
   },
   "file_extension": ".py",
   "mimetype": "text/x-python",
   "name": "python",
   "nbconvert_exporter": "python",
   "pygments_lexer": "ipython3",
   "version": "3.5.2"
  }
 },
 "nbformat": 4,
 "nbformat_minor": 1
}
